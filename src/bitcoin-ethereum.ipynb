{
 "cells": [
  {
   "cell_type": "markdown",
   "metadata": {},
   "source": [
    "# Linear Regression\n",
    "\n",
    "Small linear regression sample implementation.\n",
    "For this example we are using the Bitcoin Prices in a Monthly basis as the **dependant** variable. i.e., the variable we want to predict. \n",
    "And we use the Ethereum Prices in a Montly basis as the **independant** variable. i.e., the variable we are using **to** predict the Bitcoin price. "
   ]
  },
  {
   "cell_type": "markdown",
   "metadata": {},
   "source": [
    "> DISCLAIMER: this is simplified given that yahoo overs good quality data. Usually you more steps to clean and wrangle data."
   ]
  },
  {
   "cell_type": "markdown",
   "metadata": {},
   "source": [
    "## 1. Import libraries"
   ]
  },
  {
   "cell_type": "code",
   "execution_count": 2,
   "metadata": {
    "tags": [
     "Imports"
    ]
   },
   "outputs": [],
   "source": [
    "import pandas as pd\n",
    "from sklearn.linear_model import LinearRegression\n",
    "import matplotlib.pyplot as plt"
   ]
  },
  {
   "cell_type": "markdown",
   "metadata": {},
   "source": [
    "## 2. Load the data from csv files."
   ]
  },
  {
   "cell_type": "code",
   "execution_count": 3,
   "metadata": {
    "tags": []
   },
   "outputs": [],
   "source": [
    "# Ingest\n",
    "## Data paths.\n",
    "DATA = \"src/assets/BTC-USD.csv\" \n",
    "DATA1 = \"src/assets/ETH-USD.csv\"\n",
    "\n",
    "## Make pandas read the data.\n",
    "df1 = pd.read_csv(DATA, index_col=\"Date\", parse_dates=True).sort_index(ascending=True)\n",
    "df2 = pd.read_csv(DATA1, index_col=\"Date\", parse_dates=True).sort_index(ascending=True)"
   ]
  },
  {
   "cell_type": "markdown",
   "metadata": {},
   "source": [
    "Ingests the data fetched from Yahoo Finance (The data has no blank values).\n",
    "During the import, the data is formated to a time series by setting the Dates as the index. The index is then sorted as ascend given that for linear regresions these need to be from older to newest."
   ]
  },
  {
   "cell_type": "code",
   "execution_count": null,
   "metadata": {},
   "outputs": [],
   "source": [
    "df1.head()\n",
    "df2.head()"
   ]
  },
  {
   "cell_type": "markdown",
   "metadata": {},
   "source": [
    "## 3. Preprocess the data for the regression."
   ]
  },
  {
   "cell_type": "code",
   "execution_count": null,
   "metadata": {},
   "outputs": [],
   "source": [
    "## Get the correlation\n",
    "df1[\"Adj Close\"].corr(df2[\"Adj Close\"])"
   ]
  },
  {
   "cell_type": "code",
   "execution_count": null,
   "metadata": {},
   "outputs": [],
   "source": [
    "## Get necesary predictive values only.\n",
    "# Use double brackets to avoid sending pandas.core.series.Series instead of DataFrame\n",
    "dfx = df2[[\"Adj Close\"]]  # Load the Etherum price as x (Independant)\n",
    "dfy = df1[[\"Adj Close\"]]  # Load the Bitcoin price as y (Dependant)"
   ]
  },
  {
   "cell_type": "markdown",
   "metadata": {},
   "source": [
    "Viewing the data shows the varying measures for the exchange prices. We need to **drop** all of them except the \"Adj Close\".\n",
    "\n",
    "Notice that unlike the correlation. We fetch the columns using **double brackets**. \n",
    "This is to avoid getting errors in scikit-learn given that we are using 1 variable as preditor instead of a multy plexed array (a matrix)."
   ]
  },
  {
   "cell_type": "markdown",
   "metadata": {},
   "source": [
    "## 4. Split the sets"
   ]
  },
  {
   "cell_type": "code",
   "execution_count": null,
   "metadata": {},
   "outputs": [],
   "source": [
    "train_size = 0.8  # use 80 percent to train the regression\n",
    "if dfx.shape[0] != dfy.shape[0]:\n",
    "    print(\"Sample Sizes ERROR\")\n",
    "    exit\n",
    "x_train_size = round(dfx.shape[0] * train_size)  # We only need the rows.\n",
    "x_test_size = x_train_size\n",
    "y_train_size = round(dfx.shape[0] * train_size)  # We only need the rows.\n",
    "y_test_size = y_train_size\n",
    "\n",
    "x_train, x_test = dfx.iloc[:x_train_size], dfx.iloc[x_test_size:]\n",
    "y_train, y_test = dfy.iloc[:y_train_size], dfy.iloc[y_test_size:]"
   ]
  },
  {
   "cell_type": "markdown",
   "metadata": {},
   "source": [
    "Why not use all the series for the regression?\n",
    "To avoid overfitting. "
   ]
  },
  {
   "cell_type": "markdown",
   "metadata": {},
   "source": [
    "## 5. Regression"
   ]
  },
  {
   "cell_type": "code",
   "execution_count": null,
   "metadata": {},
   "outputs": [],
   "source": [
    "# Regression\n",
    "regressor = LinearRegression()\n",
    "regressor.fit(X=x_train, y=y_train)"
   ]
  },
  {
   "cell_type": "markdown",
   "metadata": {},
   "source": [
    "Create a Linear Regression instance and then fit it to the linear regression we need.  \n",
    "**x** is the Ethereum price.  \n",
    "**y** is the Bitcoin price.  "
   ]
  },
  {
   "cell_type": "markdown",
   "metadata": {},
   "source": [
    "## 6. Predict "
   ]
  },
  {
   "cell_type": "code",
   "execution_count": null,
   "metadata": {},
   "outputs": [],
   "source": [
    "y_pred = regressor.predict(x_test)\n",
    "print(y_pred)"
   ]
  },
  {
   "cell_type": "markdown",
   "metadata": {},
   "source": [
    "Create an array with the predictions for the **test (Validation)** set.  \n",
    "Print the predictions. "
   ]
  },
  {
   "cell_type": "markdown",
   "metadata": {},
   "source": [
    "## 7. Plot."
   ]
  },
  {
   "cell_type": "code",
   "execution_count": null,
   "metadata": {},
   "outputs": [],
   "source": [
    "# Training Sets\n",
    "plt.scatter(x_train, y_train, color=\"red\")\n",
    "plt.plot(x_train, regressor.predict(x_train), color=\"blue\")\n",
    "plt.title(\"Bitcoin vs Ethereum\")\n",
    "plt.xlabel(\"Ethereum Closing Price\")\n",
    "plt.ylabel(\"Bitcoin Closing Price\")\n",
    "plt.show()\n",
    "\n",
    "\n",
    "# Test set\n",
    "plt.scatter(x_test, y_test, color=\"red\")\n",
    "plt.plot(x_train, regressor.predict(x_train), color=\"blue\")\n",
    "plt.title(\"Bitcoin vs Ethereum\")\n",
    "plt.xlabel(\"Ethereum Closing Price\")\n",
    "plt.ylabel(\"Bitcoin Closing Price\")\n",
    "plt.show()\n"
   ]
  }
 ],
 "metadata": {
  "kernelspec": {
   "display_name": ".devel-env",
   "language": "python",
   "name": "python3"
  },
  "language_info": {
   "codemirror_mode": {
    "name": "ipython",
    "version": 3
   },
   "file_extension": ".py",
   "mimetype": "text/x-python",
   "name": "python",
   "nbconvert_exporter": "python",
   "pygments_lexer": "ipython3",
   "version": "3.12.1"
  }
 },
 "nbformat": 4,
 "nbformat_minor": 2
}
