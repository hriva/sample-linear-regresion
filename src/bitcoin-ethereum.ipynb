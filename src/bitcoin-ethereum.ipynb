{
 "cells": [
  {
   "cell_type": "markdown",
   "metadata": {},
   "source": [
    "# Linear Regression\n",
    "\n",
    "Small linear regression sample implementation.\n",
    "For this example we are using the Bitcoin Prices in a Monthly basis as the **dependant** variable. i.e., the variable we want to predict. \n",
    "And we use the Ethereum Prices in a Montly basis as the **independant** variable. i.e., the variable we are using **to** predict the Bitcoin price. "
   ]
  },
  {
   "cell_type": "markdown",
   "metadata": {},
   "source": [
    "> DISCLAIMER: this is simplified given that yahoo offers good quality data. Usually you need more steps to clean and wrangle data."
   ]
  },
  {
   "cell_type": "markdown",
   "metadata": {},
   "source": [
    "## 1. Import libraries"
   ]
  },
  {
   "cell_type": "code",
   "execution_count": 10,
   "metadata": {
    "tags": [
     "Imports"
    ]
   },
   "outputs": [],
   "source": [
    "import pandas as pd\n",
    "from sklearn.linear_model import LinearRegression\n",
    "import matplotlib.pyplot as plt"
   ]
  },
  {
   "cell_type": "markdown",
   "metadata": {},
   "source": [
    "## 2. Load the data from csv files."
   ]
  },
  {
   "cell_type": "code",
   "execution_count": 11,
   "metadata": {
    "tags": []
   },
   "outputs": [],
   "source": [
    "# Ingest\n",
    "## Data paths.\n",
    "DATA = \"assets/BTC-USD.csv\" \n",
    "DATA1 = \"assets/ETH-USD.csv\"\n",
    "\n",
    "## Make pandas read the data.\n",
    "df1 = pd.read_csv(DATA, index_col=\"Date\", parse_dates=True).sort_index(ascending=True)\n",
    "df2 = pd.read_csv(DATA1, index_col=\"Date\", parse_dates=True).sort_index(ascending=True)"
   ]
  },
  {
   "cell_type": "markdown",
   "metadata": {},
   "source": [
    "Ingests the data fetched from Yahoo Finance (The data has no blank values).\n",
    "During the import, the data is formated to a time series by setting the Dates as the index. The index is then sorted as ascend given that for linear regresions these need to be from older to newest."
   ]
  },
  {
   "cell_type": "code",
   "execution_count": 12,
   "metadata": {},
   "outputs": [
    {
     "data": {
      "text/html": [
       "<div>\n",
       "<style scoped>\n",
       "    .dataframe tbody tr th:only-of-type {\n",
       "        vertical-align: middle;\n",
       "    }\n",
       "\n",
       "    .dataframe tbody tr th {\n",
       "        vertical-align: top;\n",
       "    }\n",
       "\n",
       "    .dataframe thead th {\n",
       "        text-align: right;\n",
       "    }\n",
       "</style>\n",
       "<table border=\"1\" class=\"dataframe\">\n",
       "  <thead>\n",
       "    <tr style=\"text-align: right;\">\n",
       "      <th></th>\n",
       "      <th>Open</th>\n",
       "      <th>High</th>\n",
       "      <th>Low</th>\n",
       "      <th>Close</th>\n",
       "      <th>Adj Close</th>\n",
       "      <th>Volume</th>\n",
       "    </tr>\n",
       "    <tr>\n",
       "      <th>Date</th>\n",
       "      <th></th>\n",
       "      <th></th>\n",
       "      <th></th>\n",
       "      <th></th>\n",
       "      <th></th>\n",
       "      <th></th>\n",
       "    </tr>\n",
       "  </thead>\n",
       "  <tbody>\n",
       "    <tr>\n",
       "      <th>2019-02-01</th>\n",
       "      <td>107.147682</td>\n",
       "      <td>165.549622</td>\n",
       "      <td>102.934563</td>\n",
       "      <td>136.746246</td>\n",
       "      <td>136.746246</td>\n",
       "      <td>101430995445</td>\n",
       "    </tr>\n",
       "    <tr>\n",
       "      <th>2019-03-01</th>\n",
       "      <td>136.836243</td>\n",
       "      <td>149.613235</td>\n",
       "      <td>125.402702</td>\n",
       "      <td>141.514099</td>\n",
       "      <td>141.514099</td>\n",
       "      <td>138882123600</td>\n",
       "    </tr>\n",
       "    <tr>\n",
       "      <th>2019-04-01</th>\n",
       "      <td>141.465485</td>\n",
       "      <td>184.377853</td>\n",
       "      <td>140.737564</td>\n",
       "      <td>162.166031</td>\n",
       "      <td>162.166031</td>\n",
       "      <td>204556824026</td>\n",
       "    </tr>\n",
       "    <tr>\n",
       "      <th>2019-05-01</th>\n",
       "      <td>162.186554</td>\n",
       "      <td>287.201630</td>\n",
       "      <td>159.660217</td>\n",
       "      <td>268.113556</td>\n",
       "      <td>268.113556</td>\n",
       "      <td>314349041886</td>\n",
       "    </tr>\n",
       "    <tr>\n",
       "      <th>2019-06-01</th>\n",
       "      <td>268.433350</td>\n",
       "      <td>361.398682</td>\n",
       "      <td>229.257431</td>\n",
       "      <td>290.695984</td>\n",
       "      <td>290.695984</td>\n",
       "      <td>270589672710</td>\n",
       "    </tr>\n",
       "  </tbody>\n",
       "</table>\n",
       "</div>"
      ],
      "text/plain": [
       "                  Open        High         Low       Close   Adj Close  \\\n",
       "Date                                                                     \n",
       "2019-02-01  107.147682  165.549622  102.934563  136.746246  136.746246   \n",
       "2019-03-01  136.836243  149.613235  125.402702  141.514099  141.514099   \n",
       "2019-04-01  141.465485  184.377853  140.737564  162.166031  162.166031   \n",
       "2019-05-01  162.186554  287.201630  159.660217  268.113556  268.113556   \n",
       "2019-06-01  268.433350  361.398682  229.257431  290.695984  290.695984   \n",
       "\n",
       "                  Volume  \n",
       "Date                      \n",
       "2019-02-01  101430995445  \n",
       "2019-03-01  138882123600  \n",
       "2019-04-01  204556824026  \n",
       "2019-05-01  314349041886  \n",
       "2019-06-01  270589672710  "
      ]
     },
     "execution_count": 12,
     "metadata": {},
     "output_type": "execute_result"
    }
   ],
   "source": [
    "df1.head()\n",
    "df2.head()"
   ]
  },
  {
   "cell_type": "markdown",
   "metadata": {},
   "source": [
    "## 3. Preprocess the data for the regression."
   ]
  },
  {
   "cell_type": "code",
   "execution_count": 13,
   "metadata": {},
   "outputs": [
    {
     "data": {
      "text/plain": [
       "0.9184047915160264"
      ]
     },
     "execution_count": 13,
     "metadata": {},
     "output_type": "execute_result"
    }
   ],
   "source": [
    "## Get the correlation\n",
    "df1[\"Adj Close\"].corr(df2[\"Adj Close\"])"
   ]
  },
  {
   "cell_type": "code",
   "execution_count": 14,
   "metadata": {},
   "outputs": [],
   "source": [
    "## Get necesary predictive values only.\n",
    "# Use double brackets to avoid sending pandas.core.series.Series instead of DataFrame\n",
    "dfx = df2[[\"Adj Close\"]]  # Load the Etherum price as x (Independant)\n",
    "dfy = df1[[\"Adj Close\"]]  # Load the Bitcoin price as y (Dependant)"
   ]
  },
  {
   "cell_type": "markdown",
   "metadata": {},
   "source": [
    "Viewing the data shows the varying measures for the exchange prices. We need to **drop** all of them except the \"Adj Close\".\n",
    "\n",
    "Notice that unlike the correlation. We fetch the columns using **double brackets**. \n",
    "This is to avoid getting errors in scikit-learn given that we are using 1 variable as preditor instead of a multy plexed array (a matrix)."
   ]
  },
  {
   "cell_type": "markdown",
   "metadata": {},
   "source": [
    "## 4. Split the sets"
   ]
  },
  {
   "cell_type": "code",
   "execution_count": 15,
   "metadata": {},
   "outputs": [],
   "source": [
    "train_size = 0.8  # use 80 percent to train the regression\n",
    "if dfx.shape[0] != dfy.shape[0]:\n",
    "    print(\"Sample Sizes ERROR\")\n",
    "    exit\n",
    "x_train_size = round(dfx.shape[0] * train_size)  # We only need the rows.\n",
    "x_test_size = x_train_size\n",
    "y_train_size = round(dfx.shape[0] * train_size)  # We only need the rows.\n",
    "y_test_size = y_train_size\n",
    "\n",
    "x_train, x_test = dfx.iloc[:x_train_size], dfx.iloc[x_test_size:]\n",
    "y_train, y_test = dfy.iloc[:y_train_size], dfy.iloc[y_test_size:]"
   ]
  },
  {
   "cell_type": "markdown",
   "metadata": {},
   "source": [
    "Why not use all the series for the regression?\n",
    "To avoid overfitting. "
   ]
  },
  {
   "cell_type": "markdown",
   "metadata": {},
   "source": [
    "## 5. Regression"
   ]
  },
  {
   "cell_type": "code",
   "execution_count": 16,
   "metadata": {},
   "outputs": [
    {
     "data": {
      "text/plain": [
       "array([[12.38075347]])"
      ]
     },
     "execution_count": 16,
     "metadata": {},
     "output_type": "execute_result"
    }
   ],
   "source": [
    "# Regression\n",
    "regressor = LinearRegression()\n",
    "regressor.fit(X=x_train, y=y_train)\n",
    "regressor.coef_"
   ]
  },
  {
   "cell_type": "markdown",
   "metadata": {},
   "source": [
    "Create a Linear Regression instance and then fit it to the linear regression we need.  \n",
    "**x** is the Ethereum price.  \n",
    "**y** is the Bitcoin price.  "
   ]
  },
  {
   "cell_type": "markdown",
   "metadata": {},
   "source": [
    "## 6. Predict "
   ]
  },
  {
   "cell_type": "code",
   "execution_count": 17,
   "metadata": {},
   "outputs": [
    {
     "name": "stdout",
     "output_type": "stream",
     "text": [
      "[[27166.4563642 ]\n",
      " [29842.27088754]\n",
      " [30522.0017507 ]\n",
      " [30487.4121169 ]\n",
      " [31218.60049905]\n",
      " [30264.95301762]\n",
      " [27658.51725297]\n",
      " [27974.50757146]\n",
      " [29773.39538172]\n",
      " [32696.45621372]\n",
      " [35530.59687719]\n",
      " [35894.03668097]]\n"
     ]
    }
   ],
   "source": [
    "y_pred = regressor.predict(x_test)\n",
    "print(y_pred)"
   ]
  },
  {
   "cell_type": "markdown",
   "metadata": {},
   "source": [
    "Create an array with the predictions for the **test (Validation)** set.  \n",
    "Print the predictions. "
   ]
  },
  {
   "cell_type": "markdown",
   "metadata": {},
   "source": [
    "## 7. Plot."
   ]
  },
  {
   "cell_type": "code",
   "execution_count": 18,
   "metadata": {},
   "outputs": [
    {
     "data": {
      "image/png": "[encoded data removed]",
      "text/plain": [
       "<Figure size 640x480 with 1 Axes>"
      ]
     },
     "metadata": {},
     "output_type": "display_data"
    },
    {
     "data": {
      "image/png": "[encoded data removed]",
      "text/plain": [
       "<Figure size 640x480 with 1 Axes>"
      ]
     },
     "metadata": {},
     "output_type": "display_data"
    }
   ],
   "source": [
    "# Training Sets\n",
    "plt.scatter(x_train, y_train, color=\"red\")\n",
    "plt.plot(x_train, regressor.predict(x_train), color=\"blue\")\n",
    "plt.title(\"Bitcoin vs Ethereum\")\n",
    "plt.xlabel(\"Ethereum Closing Price\")\n",
    "plt.ylabel(\"Bitcoin Closing Price\")\n",
    "plt.show()\n",
    "\n",
    "\n",
    "# Test set\n",
    "plt.scatter(x_test, y_test, color=\"red\")\n",
    "plt.plot(x_train, regressor.predict(x_train), color=\"blue\")\n",
    "plt.title(\"Bitcoin vs Ethereum\")\n",
    "plt.xlabel(\"Ethereum Closing Price\")\n",
    "plt.ylabel(\"Bitcoin Closing Price\")\n",
    "plt.show()\n"
   ]
  }
 ],
 "metadata": {
  "kernelspec": {
   "display_name": ".devel-env",
   "language": "python",
   "name": "python3"
  },
  "language_info": {
   "codemirror_mode": {
    "name": "ipython",
    "version": 3
   },
   "file_extension": ".py",
   "mimetype": "text/x-python",
   "name": "python",
   "nbconvert_exporter": "python",
   "pygments_lexer": "ipython3",
   "version": "3.12.1"
  }
 },
 "nbformat": 4,
 "nbformat_minor": 2
}
