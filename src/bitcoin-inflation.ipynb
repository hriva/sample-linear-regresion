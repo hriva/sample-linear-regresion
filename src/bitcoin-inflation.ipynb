{
 "cells": [
  {
   "cell_type": "markdown",
   "metadata": {},
   "source": [
    "# Linear Regression\n",
    "\n",
    "Small linear regression sample implementation.\n",
    "For this example we are using the Bitcoin Prices in a Monthly basis as the **dependant** variable. i.e., the variable we want to predict. \n",
    "And we use the Usa Inflation Rates in a Montly basis as the **independant** variable. i.e., the variable we are using **to** predict the Bitcoin price. "
   ]
  },
  {
   "cell_type": "markdown",
   "metadata": {},
   "source": [
    "> DISCLAIMER: this is simplified given that yahoo offers good quality data. Usually you need more steps to clean and wrangle data."
   ]
  },
  {
   "cell_type": "markdown",
   "metadata": {},
   "source": [
    "## 1. Import libraries"
   ]
  },
  {
   "cell_type": "code",
   "execution_count": 188,
   "metadata": {
    "tags": [
     "Imports"
    ]
   },
   "outputs": [],
   "source": [
    "import pandas as pd\n",
    "from sklearn.linear_model import LinearRegression\n",
    "import matplotlib.pyplot as plt"
   ]
  },
  {
   "cell_type": "markdown",
   "metadata": {},
   "source": [
    "## 2. Load the data from csv files."
   ]
  },
  {
   "cell_type": "code",
   "execution_count": 189,
   "metadata": {
    "tags": []
   },
   "outputs": [],
   "source": [
    "# Ingest\n",
    "## Data paths.\n",
    "DATA = \"assets/BTC-USD.csv\" \n",
    "DATA1 = \"assets/US-Inflation-rates.csv\"\n",
    "\n",
    "## Make pandas read the data.\n",
    "pd.options.mode.copy_on_write = True\n",
    "df1 = pd.read_csv(DATA, index_col=\"Date\", parse_dates=True).sort_index(ascending=True)\n",
    "df2 = pd.read_csv(DATA1)"
   ]
  },
  {
   "cell_type": "markdown",
   "metadata": {},
   "source": [
    "Ingests the data fetched from Yahoo Finance (The data has no blank values).\n",
    "During the import, the data is formated to a time series by setting the Dates as the index. The index is then sorted as ascend given that for linear regresions these need to be from older to newest."
   ]
  },
  {
   "cell_type": "code",
   "execution_count": 190,
   "metadata": {},
   "outputs": [
    {
     "data": {
      "text/html": [
       "<div>\n",
       "<style scoped>\n",
       "    .dataframe tbody tr th:only-of-type {\n",
       "        vertical-align: middle;\n",
       "    }\n",
       "\n",
       "    .dataframe tbody tr th {\n",
       "        vertical-align: top;\n",
       "    }\n",
       "\n",
       "    .dataframe thead th {\n",
       "        text-align: right;\n",
       "    }\n",
       "</style>\n",
       "<table border=\"1\" class=\"dataframe\">\n",
       "  <thead>\n",
       "    <tr style=\"text-align: right;\">\n",
       "      <th></th>\n",
       "      <th>Year</th>\n",
       "      <th>Jan</th>\n",
       "      <th>Feb</th>\n",
       "      <th>Mar</th>\n",
       "      <th>Apr</th>\n",
       "      <th>May</th>\n",
       "      <th>Jun</th>\n",
       "      <th>Jul</th>\n",
       "      <th>Aug</th>\n",
       "      <th>Sep</th>\n",
       "      <th>Oct</th>\n",
       "      <th>Nov</th>\n",
       "      <th>Dec</th>\n",
       "      <th>Ave</th>\n",
       "    </tr>\n",
       "  </thead>\n",
       "  <tbody>\n",
       "    <tr>\n",
       "      <th>0</th>\n",
       "      <td>1914</td>\n",
       "      <td>2</td>\n",
       "      <td>1.0</td>\n",
       "      <td>1.0</td>\n",
       "      <td>0.0</td>\n",
       "      <td>2.1</td>\n",
       "      <td>1.0</td>\n",
       "      <td>1.0</td>\n",
       "      <td>3.0</td>\n",
       "      <td>2.0</td>\n",
       "      <td>1.0</td>\n",
       "      <td>1.0</td>\n",
       "      <td>1.0</td>\n",
       "      <td>1.0</td>\n",
       "    </tr>\n",
       "    <tr>\n",
       "      <th>1</th>\n",
       "      <td>1915</td>\n",
       "      <td>1</td>\n",
       "      <td>1.0</td>\n",
       "      <td>0.0</td>\n",
       "      <td>2.0</td>\n",
       "      <td>2.0</td>\n",
       "      <td>2.0</td>\n",
       "      <td>1.0</td>\n",
       "      <td>-1.0</td>\n",
       "      <td>-1.0</td>\n",
       "      <td>1.0</td>\n",
       "      <td>1.0</td>\n",
       "      <td>2.0</td>\n",
       "      <td>1.0</td>\n",
       "    </tr>\n",
       "    <tr>\n",
       "      <th>2</th>\n",
       "      <td>1916</td>\n",
       "      <td>3</td>\n",
       "      <td>4.0</td>\n",
       "      <td>6.1</td>\n",
       "      <td>6.0</td>\n",
       "      <td>5.9</td>\n",
       "      <td>6.9</td>\n",
       "      <td>6.9</td>\n",
       "      <td>7.9</td>\n",
       "      <td>9.9</td>\n",
       "      <td>10.8</td>\n",
       "      <td>11.7</td>\n",
       "      <td>12.6</td>\n",
       "      <td>7.9</td>\n",
       "    </tr>\n",
       "    <tr>\n",
       "      <th>3</th>\n",
       "      <td>1917</td>\n",
       "      <td>12.5</td>\n",
       "      <td>15.4</td>\n",
       "      <td>14.3</td>\n",
       "      <td>18.9</td>\n",
       "      <td>19.6</td>\n",
       "      <td>20.4</td>\n",
       "      <td>18.5</td>\n",
       "      <td>19.3</td>\n",
       "      <td>19.8</td>\n",
       "      <td>19.5</td>\n",
       "      <td>17.4</td>\n",
       "      <td>18.1</td>\n",
       "      <td>17.4</td>\n",
       "    </tr>\n",
       "    <tr>\n",
       "      <th>4</th>\n",
       "      <td>1918</td>\n",
       "      <td>19.7</td>\n",
       "      <td>17.5</td>\n",
       "      <td>16.7</td>\n",
       "      <td>12.7</td>\n",
       "      <td>13.3</td>\n",
       "      <td>13.1</td>\n",
       "      <td>18.0</td>\n",
       "      <td>18.5</td>\n",
       "      <td>18.0</td>\n",
       "      <td>18.5</td>\n",
       "      <td>20.7</td>\n",
       "      <td>20.4</td>\n",
       "      <td>18.0</td>\n",
       "    </tr>\n",
       "  </tbody>\n",
       "</table>\n",
       "</div>"
      ],
      "text/plain": [
       "   Year   Jan   Feb   Mar   Apr   May   Jun   Jul   Aug   Sep   Oct   Nov  \\\n",
       "0  1914     2   1.0   1.0   0.0   2.1   1.0   1.0   3.0   2.0   1.0   1.0   \n",
       "1  1915     1   1.0   0.0   2.0   2.0   2.0   1.0  -1.0  -1.0   1.0   1.0   \n",
       "2  1916     3   4.0   6.1   6.0   5.9   6.9   6.9   7.9   9.9  10.8  11.7   \n",
       "3  1917  12.5  15.4  14.3  18.9  19.6  20.4  18.5  19.3  19.8  19.5  17.4   \n",
       "4  1918  19.7  17.5  16.7  12.7  13.3  13.1  18.0  18.5  18.0  18.5  20.7   \n",
       "\n",
       "    Dec   Ave  \n",
       "0   1.0   1.0  \n",
       "1   2.0   1.0  \n",
       "2  12.6   7.9  \n",
       "3  18.1  17.4  \n",
       "4  20.4  18.0  "
      ]
     },
     "execution_count": 190,
     "metadata": {},
     "output_type": "execute_result"
    }
   ],
   "source": [
    "df1.head()\n",
    "df2.head()"
   ]
  },
  {
   "cell_type": "markdown",
   "metadata": {},
   "source": [
    "## 3. Preprocess the data for the regression."
   ]
  },
  {
   "cell_type": "markdown",
   "metadata": {},
   "source": [
    "### 3.1 Wrangle Data"
   ]
  },
  {
   "cell_type": "code",
   "execution_count": 191,
   "metadata": {},
   "outputs": [
    {
     "data": {
      "text/html": [
       "<div>\n",
       "<style scoped>\n",
       "    .dataframe tbody tr th:only-of-type {\n",
       "        vertical-align: middle;\n",
       "    }\n",
       "\n",
       "    .dataframe tbody tr th {\n",
       "        vertical-align: top;\n",
       "    }\n",
       "\n",
       "    .dataframe thead th {\n",
       "        text-align: right;\n",
       "    }\n",
       "</style>\n",
       "<table border=\"1\" class=\"dataframe\">\n",
       "  <thead>\n",
       "    <tr style=\"text-align: right;\">\n",
       "      <th></th>\n",
       "      <th>index</th>\n",
       "      <th>value</th>\n",
       "      <th>Date</th>\n",
       "    </tr>\n",
       "  </thead>\n",
       "  <tbody>\n",
       "    <tr>\n",
       "      <th>0</th>\n",
       "      <td>0</td>\n",
       "      <td>2</td>\n",
       "      <td>1914-01</td>\n",
       "    </tr>\n",
       "    <tr>\n",
       "      <th>1</th>\n",
       "      <td>111</td>\n",
       "      <td>1.0</td>\n",
       "      <td>1914-02</td>\n",
       "    </tr>\n",
       "    <tr>\n",
       "      <th>2</th>\n",
       "      <td>222</td>\n",
       "      <td>1.0</td>\n",
       "      <td>1914-03</td>\n",
       "    </tr>\n",
       "    <tr>\n",
       "      <th>3</th>\n",
       "      <td>333</td>\n",
       "      <td>0.0</td>\n",
       "      <td>1914-04</td>\n",
       "    </tr>\n",
       "    <tr>\n",
       "      <th>4</th>\n",
       "      <td>444</td>\n",
       "      <td>2.1</td>\n",
       "      <td>1914-05</td>\n",
       "    </tr>\n",
       "  </tbody>\n",
       "</table>\n",
       "</div>"
      ],
      "text/plain": [
       "   index value     Date\n",
       "0      0     2  1914-01\n",
       "1    111   1.0  1914-02\n",
       "2    222   1.0  1914-03\n",
       "3    333   0.0  1914-04\n",
       "4    444   2.1  1914-05"
      ]
     },
     "execution_count": 191,
     "metadata": {},
     "output_type": "execute_result"
    }
   ],
   "source": [
    "## Turn month columns into a month column with month values.\n",
    "df2 = df2.drop(columns=[\"Ave\"])  # Yearly average is not needed.\n",
    "df2 = df2.rename(  # Rename columns so we can sort them.\n",
    "    columns={\n",
    "        \"Jan\": \"01\",\n",
    "        \"Feb\": \"02\",\n",
    "        \"Mar\": \"03\",\n",
    "        \"Apr\": \"04\",\n",
    "        \"May\": \"05\",\n",
    "        \"Jun\": \"06\",\n",
    "        \"Jul\": \"07\",\n",
    "        \"Aug\": \"08\",\n",
    "        \"Sep\": \"09\",\n",
    "        \"Oct\": \"10\",\n",
    "        \"Nov\": \"11\",\n",
    "        \"Dec\": \"12\",\n",
    "    }\n",
    ").melt(\n",
    "    df2.columns[0]\n",
    ")  # Convert columns to values.\n",
    "\n",
    "## Create Date column.\n",
    "df2[\"Date\"] = (\n",
    "    df2.astype({\"Year\": \"str\"}).Year + \"-\" + df2.astype({\"variable\": \"str\"}).variable\n",
    ")\n",
    "\n",
    "df2 = df2.drop(columns=[\"variable\", \"Year\"]).sort_values(\"Date\", ascending=True)\n",
    "df2 = df2.reset_index()\n",
    "df2.head()"
   ]
  },
  {
   "cell_type": "code",
   "execution_count": 192,
   "metadata": {},
   "outputs": [],
   "source": [
    "# Make sure number values are numbers.\n",
    "df2.dtypes  # We can see it is object type.\n",
    "df2['value'] = pd.to_numeric(df2.value, errors = 'coerce')  # Use coerce to force words to NaN.\n",
    "\n",
    "# Remove Na's\n",
    "df2.tail()  # Current year will have missing values. \n",
    "df2 = df2.dropna()\n",
    "df2 = df2.reset_index()\n",
    "df2 = df2.drop(columns=[\"index\"])  # Re assing table indexes since we moved and deleted stuff."
   ]
  },
  {
   "cell_type": "markdown",
   "metadata": {},
   "source": [
    "### 3.2 Level Sample Sizes"
   ]
  },
  {
   "cell_type": "code",
   "execution_count": 193,
   "metadata": {},
   "outputs": [
    {
     "name": "stdout",
     "output_type": "stream",
     "text": [
      "Sample sizes don't match\n"
     ]
    }
   ],
   "source": [
    "if df1.shape[0] != df2.shape[0]:\n",
    "  print (\"Sample sizes don't match\")\n",
    "  df2 = df2.loc[df2.shape[0] - df1.shape[0] -1 : ]\n"
   ]
  },
  {
   "cell_type": "markdown",
   "metadata": {},
   "source": [
    "In this instance we are going to use Inflation_1 (lag = 1) to predict. Other methods could be to use a rolling average to predict the last month prices if it isn't avaliable yet or an orquest ensamble that predicts Inflation, then predicts prices. "
   ]
  },
  {
   "cell_type": "markdown",
   "metadata": {},
   "source": [
    "### 3.2 Select Data"
   ]
  },
  {
   "cell_type": "code",
   "execution_count": 202,
   "metadata": {},
   "outputs": [
    {
     "data": {
      "text/html": [
       "<div>\n",
       "<style scoped>\n",
       "    .dataframe tbody tr th:only-of-type {\n",
       "        vertical-align: middle;\n",
       "    }\n",
       "\n",
       "    .dataframe tbody tr th {\n",
       "        vertical-align: top;\n",
       "    }\n",
       "\n",
       "    .dataframe thead th {\n",
       "        text-align: right;\n",
       "    }\n",
       "</style>\n",
       "<table border=\"1\" class=\"dataframe\">\n",
       "  <thead>\n",
       "    <tr style=\"text-align: right;\">\n",
       "      <th></th>\n",
       "      <th>Adj Close</th>\n",
       "      <th>value</th>\n",
       "    </tr>\n",
       "  </thead>\n",
       "  <tbody>\n",
       "    <tr>\n",
       "      <th>Adj Close</th>\n",
       "      <td>1.000000</td>\n",
       "      <td>0.334609</td>\n",
       "    </tr>\n",
       "    <tr>\n",
       "      <th>value</th>\n",
       "      <td>0.334609</td>\n",
       "      <td>1.000000</td>\n",
       "    </tr>\n",
       "  </tbody>\n",
       "</table>\n",
       "</div>"
      ],
      "text/plain": [
       "           Adj Close     value\n",
       "Adj Close   1.000000  0.334609\n",
       "value       0.334609  1.000000"
      ]
     },
     "execution_count": 202,
     "metadata": {},
     "output_type": "execute_result"
    }
   ],
   "source": [
    "## Get the correlation\n",
    "df3 = pd.concat([df1.reset_index(),df2.reset_index()], axis=1)\n",
    "df3 = df3[['Adj Close', 'value']]\n",
    "df3.corr()"
   ]
  },
  {
   "cell_type": "code",
   "execution_count": 170,
   "metadata": {},
   "outputs": [],
   "source": [
    "## Get necesary predictive values only.\n",
    "# Use double brackets to avoid sending pandas.core.series.Series instead of DataFrame\n",
    "dfx = df2[[\"value\"]]  # Load the Etherum price as x (Independant)\n",
    "dfy = df1[[\"Adj Close\"]]  # Load the Bitcoin price as y (Dependant)"
   ]
  },
  {
   "cell_type": "markdown",
   "metadata": {},
   "source": [
    "Viewing the data shows the varying measures for the exchange prices. We need to **drop** all of them except the \"Adj Close\".\n",
    "\n",
    "Notice that unlike the correlation. We fetch the columns using **double brackets**. \n",
    "This is to avoid getting errors in scikit-learn given that we are using 1 variable as preditor instead of a multy plexed array (a matrix)."
   ]
  },
  {
   "cell_type": "markdown",
   "metadata": {},
   "source": [
    "## 4. Split the sets"
   ]
  },
  {
   "cell_type": "code",
   "execution_count": 122,
   "metadata": {},
   "outputs": [],
   "source": [
    "train_size = 0.8  # use 80 percent to train the regression\n",
    "if dfx.shape[0] != dfy.shape[0]:\n",
    "    print(\"Sample Sizes ERROR\")\n",
    "    exit\n",
    "x_train_size = round(dfx.shape[0] * train_size)  # We only need the rows.\n",
    "x_test_size = x_train_size\n",
    "y_train_size = round(dfx.shape[0] * train_size)  # We only need the rows.\n",
    "y_test_size = y_train_size\n",
    "\n",
    "x_train, x_test = dfx.iloc[:x_train_size], dfx.iloc[x_test_size:]\n",
    "y_train, y_test = dfy.iloc[:y_train_size], dfy.iloc[y_test_size:]"
   ]
  },
  {
   "cell_type": "markdown",
   "metadata": {},
   "source": [
    "Why not use all the series for the regression?\n",
    "To avoid overfitting. "
   ]
  },
  {
   "cell_type": "markdown",
   "metadata": {},
   "source": [
    "## 5. Regression"
   ]
  },
  {
   "cell_type": "code",
   "execution_count": 126,
   "metadata": {},
   "outputs": [
    {
     "data": {
      "text/plain": [
       "array([[2536.71878289]])"
      ]
     },
     "execution_count": 126,
     "metadata": {},
     "output_type": "execute_result"
    }
   ],
   "source": [
    "# Regression\n",
    "regressor = LinearRegression()\n",
    "regressor.fit(X=x_train, y=y_train)\n",
    "regressor.coef_"
   ]
  },
  {
   "cell_type": "markdown",
   "metadata": {},
   "source": [
    "Create a Linear Regression instance and then fit it to the linear regression we need.  \n",
    "**x** is the Ethereum price.  \n",
    "**y** is the Bitcoin price.  "
   ]
  },
  {
   "cell_type": "markdown",
   "metadata": {},
   "source": [
    "## 6. Predict "
   ]
  },
  {
   "cell_type": "code",
   "execution_count": 124,
   "metadata": {},
   "outputs": [
    {
     "name": "stdout",
     "output_type": "stream",
     "text": [
      "[[30271.62357028]\n",
      " [29256.93605713]\n",
      " [26720.21727424]\n",
      " [26466.54539595]\n",
      " [24183.49849136]\n",
      " [21646.77970847]\n",
      " [22154.12346505]\n",
      " [23422.48285649]\n",
      " [23422.48285649]\n",
      " [22154.12346505]\n",
      " [21900.45158676]\n",
      " [22661.46722162]]\n"
     ]
    }
   ],
   "source": [
    "y_pred = regressor.predict(x_test)\n",
    "print(y_pred)"
   ]
  },
  {
   "cell_type": "markdown",
   "metadata": {},
   "source": [
    "Create an array with the predictions for the **test (Validation)** set.  \n",
    "Print the predictions. "
   ]
  },
  {
   "cell_type": "markdown",
   "metadata": {},
   "source": [
    "## 7. Plot."
   ]
  },
  {
   "cell_type": "code",
   "execution_count": 125,
   "metadata": {},
   "outputs": [
    {
     "data": {
      "image/png": "[encoded data removed]",
      "text/plain": [
       "<Figure size 640x480 with 1 Axes>"
      ]
     },
     "metadata": {},
     "output_type": "display_data"
    },
    {
     "data": {
      "image/png": "[encoded data removed]",
      "text/plain": [
       "<Figure size 640x480 with 1 Axes>"
      ]
     },
     "metadata": {},
     "output_type": "display_data"
    }
   ],
   "source": [
    "# Training Sets\n",
    "plt.scatter(x_train, y_train, color=\"red\")\n",
    "plt.plot(x_train, regressor.predict(x_train), color=\"blue\")\n",
    "plt.title(\"Bitcoin vs Ethereum\")\n",
    "plt.xlabel(\"Ethereum Closing Price\")\n",
    "plt.ylabel(\"Bitcoin Closing Price\")\n",
    "plt.show()\n",
    "\n",
    "\n",
    "# Test set\n",
    "plt.scatter(x_test, y_test, color=\"red\")\n",
    "plt.plot(x_train, regressor.predict(x_train), color=\"blue\")\n",
    "plt.title(\"Bitcoin vs Ethereum\")\n",
    "plt.xlabel(\"Ethereum Closing Price\")\n",
    "plt.ylabel(\"Bitcoin Closing Price\")\n",
    "plt.show()\n"
   ]
  }
 ],
 "metadata": {
  "kernelspec": {
   "display_name": ".devel-env",
   "language": "python",
   "name": "python3"
  },
  "language_info": {
   "codemirror_mode": {
    "name": "ipython",
    "version": 3
   },
   "file_extension": ".py",
   "mimetype": "text/x-python",
   "name": "python",
   "nbconvert_exporter": "python",
   "pygments_lexer": "ipython3",
   "version": "3.12.1"
  }
 },
 "nbformat": 4,
 "nbformat_minor": 2
}
